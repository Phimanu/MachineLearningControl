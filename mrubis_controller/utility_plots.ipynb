{
 "cells": [
  {
   "cell_type": "code",
   "execution_count": 1,
   "source": [
    "import pandas as pd\n",
    "import matplotlib.pyplot as plt\n",
    "import seaborn as sns\n",
    "from pathlib import Path\n",
    "from ast import literal_eval"
   ],
   "outputs": [],
   "metadata": {}
  },
  {
   "cell_type": "code",
   "execution_count": 2,
   "source": [
    "controller_output = Path('output')"
   ],
   "outputs": [],
   "metadata": {}
  },
  {
   "cell_type": "code",
   "execution_count": 3,
   "source": [
    "low_df = pd.read_csv(controller_output / '100_runs_lowest.csv')\n",
    "high_df = pd.read_csv(controller_output / '100_runs_highest.csv')\n",
    "random_df = pd.read_csv(controller_output / '100_runs_random.csv')"
   ],
   "outputs": [],
   "metadata": {}
  },
  {
   "cell_type": "code",
   "execution_count": 4,
   "source": [
    "for df in [low_df, high_df, random_df]:\n",
    "    df.loc[~df['predicted_optimal_utility'].isna(), 'rule_costs'] = df.loc[~df['predicted_optimal_utility'].isna(), 'rule_costs'].apply(literal_eval)"
   ],
   "outputs": [],
   "metadata": {}
  },
  {
   "cell_type": "code",
   "execution_count": null,
   "source": [
    "fig, ax = plt.subplots(figsize=(20,10))\n",
    "sns.lineplot(x='run', y='system_utility', data=low_df, ax=ax, ci=None, label='Lowest Cost Rule')\n",
    "sns.lineplot(x='run', y='system_utility', data=high_df, ax=ax, ci=None, label='Highest Cost Rule')\n",
    "sns.lineplot(x='run', y='system_utility', data=random_df, ax=ax, ci=None, label='Random Rule')\n",
    "ax.set(xlabel='Run', ylabel='System Utility');"
   ],
   "outputs": [],
   "metadata": {}
  },
  {
   "cell_type": "code",
   "execution_count": null,
   "source": [
    "fig, ax = plt.subplots(figsize=(20,10))\n",
    "lowest = sns.lineplot(x='run', y='shop_utility', hue='shop', data=low_df, ci=None, linestyle='dashed', ax=ax, label='Lowest Cost Rule', legend=False)\n",
    "highest = sns.lineplot(x='run', y='shop_utility', hue='shop', data=high_df, ci=None, linestyle='dotted', ax=ax, label='Highest Cost Rule', legend=False)\n",
    "random = sns.lineplot(x='run', y='shop_utility', hue='shop', data=random_df, ci=None, ax=ax, label='Random Rule', legend=False)\n",
    "ax.set(xlabel='Run', ylabel='Shop Utility');\n",
    "handles, labels = ax.get_legend_handles_labels()\n",
    "ax.legend(handles[::10], ['Lowest Cost Rule', 'Highest Cost Rule', 'Random Rule']);"
   ],
   "outputs": [],
   "metadata": {}
  },
  {
   "cell_type": "code",
   "execution_count": 269,
   "source": [
    "example_shop = low_df.loc[low_df['shop'] == 'mRUBiS #1']#.set_index(['run', 'fix_status', 'shop'])"
   ],
   "outputs": [],
   "metadata": {}
  },
  {
   "cell_type": "code",
   "execution_count": 277,
   "source": [
    "example_shop.loc[~example_shop['rule_costs'].isna(), 'min_cost'] = example_shop.loc[~example_shop['rule_costs'].isna(), 'rule_costs'].apply(min)"
   ],
   "outputs": [
    {
     "output_type": "stream",
     "name": "stderr",
     "text": [
      "/usr/local/anaconda3/lib/python3.8/site-packages/pandas/core/indexing.py:1676: SettingWithCopyWarning: \n",
      "A value is trying to be set on a copy of a slice from a DataFrame.\n",
      "Try using .loc[row_indexer,col_indexer] = value instead\n",
      "\n",
      "See the caveats in the documentation: https://pandas.pydata.org/pandas-docs/stable/user_guide/indexing.html#returning-a-view-versus-a-copy\n",
      "  self._setitem_single_column(ilocs[0], value, pi)\n"
     ]
    }
   ],
   "metadata": {}
  },
  {
   "cell_type": "code",
   "execution_count": 285,
   "source": [
    "example_shop['combined_index'] = example_shop['run'].astype(str) + '_' + example_shop['fix_status'].astype(str) + '_' + example_shop['failure_name'].astype(str)"
   ],
   "outputs": [
    {
     "output_type": "stream",
     "name": "stderr",
     "text": [
      "<ipython-input-285-1260da2422ae>:1: SettingWithCopyWarning: \n",
      "A value is trying to be set on a copy of a slice from a DataFrame.\n",
      "Try using .loc[row_indexer,col_indexer] = value instead\n",
      "\n",
      "See the caveats in the documentation: https://pandas.pydata.org/pandas-docs/stable/user_guide/indexing.html#returning-a-view-versus-a-copy\n",
      "  example_shop['combined_index'] = example_shop['run'].astype(str) + '_' + example_shop['fix_status'].astype(str) + '_' + example_shop['failure_name'].astype(str)\n"
     ]
    }
   ],
   "metadata": {}
  },
  {
   "cell_type": "code",
   "execution_count": 300,
   "source": [
    "example_shop.query('run < 5').dropna(subset=['min_cost']).plot(x='combined_index', y='min_cost', drawstyle='steps-post', rot=90)"
   ],
   "outputs": [
    {
     "output_type": "execute_result",
     "data": {
      "text/plain": [
       "<AxesSubplot:xlabel='combined_index'>"
      ]
     },
     "metadata": {},
     "execution_count": 300
    },
    {
     "output_type": "display_data",
     "data": {
      "text/plain": [
       "<Figure size 432x288 with 1 Axes>"
      ],
      "image/png": "[encoded data removed]"
     },
     "metadata": {
      "needs_background": "light"
     }
    }
   ],
   "metadata": {}
  },
  {
   "cell_type": "code",
   "execution_count": 290,
   "source": [
    "example_shop_utility = example_shop.set_index(['run', 'fix_status', 'shop']).groupby(level=[0,1,2])[['shop_utility', 'failure_name']].first().reset_index()"
   ],
   "outputs": [],
   "metadata": {}
  },
  {
   "cell_type": "code",
   "execution_count": 291,
   "source": [
    "example_shop_utility['combined_index'] = example_shop_utility['run'].astype(str) + \"_\" + example_shop_utility['fix_status'].astype(str) + '_' + example_shop_utility['failure_name'].astype(str)"
   ],
   "outputs": [],
   "metadata": {}
  },
  {
   "cell_type": "code",
   "execution_count": 292,
   "source": [
    "example_shop_utility"
   ],
   "outputs": [
    {
     "output_type": "execute_result",
     "data": {
      "text/plain": [
       "     run fix_status       shop   shop_utility failure_name  combined_index\n",
       "0      1      after  mRUBiS #1  148322.154518         None    1_after_None\n",
       "1      1     before  mRUBiS #1  148322.154518         None   1_before_None\n",
       "2      2      after  mRUBiS #1  148322.154518         None    2_after_None\n",
       "3      2     before  mRUBiS #1  144420.088231          CF3    2_before_CF3\n",
       "4      3      after  mRUBiS #1  148322.154518         None    3_after_None\n",
       "..   ...        ...        ...            ...          ...             ...\n",
       "195   98     before  mRUBiS #1  148322.154518         None  98_before_None\n",
       "196   99      after  mRUBiS #1  200244.271084         None   99_after_None\n",
       "197   99     before  mRUBiS #1  148322.154518          CF3   99_before_CF3\n",
       "198  100      after  mRUBiS #1  200244.271084         None  100_after_None\n",
       "199  100     before  mRUBiS #1  148322.154518          CF5  100_before_CF5\n",
       "\n",
       "[200 rows x 6 columns]"
      ],
      "text/html": [
       "<div>\n",
       "<style scoped>\n",
       "    .dataframe tbody tr th:only-of-type {\n",
       "        vertical-align: middle;\n",
       "    }\n",
       "\n",
       "    .dataframe tbody tr th {\n",
       "        vertical-align: top;\n",
       "    }\n",
       "\n",
       "    .dataframe thead th {\n",
       "        text-align: right;\n",
       "    }\n",
       "</style>\n",
       "<table border=\"1\" class=\"dataframe\">\n",
       "  <thead>\n",
       "    <tr style=\"text-align: right;\">\n",
       "      <th></th>\n",
       "      <th>run</th>\n",
       "      <th>fix_status</th>\n",
       "      <th>shop</th>\n",
       "      <th>shop_utility</th>\n",
       "      <th>failure_name</th>\n",
       "      <th>combined_index</th>\n",
       "    </tr>\n",
       "  </thead>\n",
       "  <tbody>\n",
       "    <tr>\n",
       "      <th>0</th>\n",
       "      <td>1</td>\n",
       "      <td>after</td>\n",
       "      <td>mRUBiS #1</td>\n",
       "      <td>148322.154518</td>\n",
       "      <td>None</td>\n",
       "      <td>1_after_None</td>\n",
       "    </tr>\n",
       "    <tr>\n",
       "      <th>1</th>\n",
       "      <td>1</td>\n",
       "      <td>before</td>\n",
       "      <td>mRUBiS #1</td>\n",
       "      <td>148322.154518</td>\n",
       "      <td>None</td>\n",
       "      <td>1_before_None</td>\n",
       "    </tr>\n",
       "    <tr>\n",
       "      <th>2</th>\n",
       "      <td>2</td>\n",
       "      <td>after</td>\n",
       "      <td>mRUBiS #1</td>\n",
       "      <td>148322.154518</td>\n",
       "      <td>None</td>\n",
       "      <td>2_after_None</td>\n",
       "    </tr>\n",
       "    <tr>\n",
       "      <th>3</th>\n",
       "      <td>2</td>\n",
       "      <td>before</td>\n",
       "      <td>mRUBiS #1</td>\n",
       "      <td>144420.088231</td>\n",
       "      <td>CF3</td>\n",
       "      <td>2_before_CF3</td>\n",
       "    </tr>\n",
       "    <tr>\n",
       "      <th>4</th>\n",
       "      <td>3</td>\n",
       "      <td>after</td>\n",
       "      <td>mRUBiS #1</td>\n",
       "      <td>148322.154518</td>\n",
       "      <td>None</td>\n",
       "      <td>3_after_None</td>\n",
       "    </tr>\n",
       "    <tr>\n",
       "      <th>...</th>\n",
       "      <td>...</td>\n",
       "      <td>...</td>\n",
       "      <td>...</td>\n",
       "      <td>...</td>\n",
       "      <td>...</td>\n",
       "      <td>...</td>\n",
       "    </tr>\n",
       "    <tr>\n",
       "      <th>195</th>\n",
       "      <td>98</td>\n",
       "      <td>before</td>\n",
       "      <td>mRUBiS #1</td>\n",
       "      <td>148322.154518</td>\n",
       "      <td>None</td>\n",
       "      <td>98_before_None</td>\n",
       "    </tr>\n",
       "    <tr>\n",
       "      <th>196</th>\n",
       "      <td>99</td>\n",
       "      <td>after</td>\n",
       "      <td>mRUBiS #1</td>\n",
       "      <td>200244.271084</td>\n",
       "      <td>None</td>\n",
       "      <td>99_after_None</td>\n",
       "    </tr>\n",
       "    <tr>\n",
       "      <th>197</th>\n",
       "      <td>99</td>\n",
       "      <td>before</td>\n",
       "      <td>mRUBiS #1</td>\n",
       "      <td>148322.154518</td>\n",
       "      <td>CF3</td>\n",
       "      <td>99_before_CF3</td>\n",
       "    </tr>\n",
       "    <tr>\n",
       "      <th>198</th>\n",
       "      <td>100</td>\n",
       "      <td>after</td>\n",
       "      <td>mRUBiS #1</td>\n",
       "      <td>200244.271084</td>\n",
       "      <td>None</td>\n",
       "      <td>100_after_None</td>\n",
       "    </tr>\n",
       "    <tr>\n",
       "      <th>199</th>\n",
       "      <td>100</td>\n",
       "      <td>before</td>\n",
       "      <td>mRUBiS #1</td>\n",
       "      <td>148322.154518</td>\n",
       "      <td>CF5</td>\n",
       "      <td>100_before_CF5</td>\n",
       "    </tr>\n",
       "  </tbody>\n",
       "</table>\n",
       "<p>200 rows × 6 columns</p>\n",
       "</div>"
      ]
     },
     "metadata": {},
     "execution_count": 292
    }
   ],
   "metadata": {}
  },
  {
   "cell_type": "code",
   "execution_count": 299,
   "source": [
    "example_shop_utility.query('run < 5').plot(x='combined_index', y='shop_utility', drawstyle='steps-post', rot=90)"
   ],
   "outputs": [
    {
     "output_type": "execute_result",
     "data": {
      "text/plain": [
       "<AxesSubplot:xlabel='combined_index'>"
      ]
     },
     "metadata": {},
     "execution_count": 299
    },
    {
     "output_type": "display_data",
     "data": {
      "text/plain": [
       "<Figure size 432x288 with 1 Axes>"
      ],
      "image/png": "[encoded data removed]"
     },
     "metadata": {
      "needs_background": "light"
     }
    }
   ],
   "metadata": {}
  },
  {
   "cell_type": "code",
   "execution_count": 199,
   "source": [
    "diffs = example_shop_utility.sort_index(ascending=False, level=[0,1], sort_remaining=False)\\\n",
    "                                .sort_index(level=[0], sort_remaining=False)\\\n",
    "                                .diff(1)"
   ],
   "outputs": [],
   "metadata": {}
  },
  {
   "cell_type": "code",
   "execution_count": 200,
   "source": [
    "diffs.iloc[1::2]\\\n",
    "     .reset_index()\\\n",
    "     .plot(x='run', y='shop_utility')"
   ],
   "outputs": [
    {
     "output_type": "execute_result",
     "data": {
      "text/plain": [
       "<AxesSubplot:xlabel='run'>"
      ]
     },
     "metadata": {},
     "execution_count": 200
    },
    {
     "output_type": "display_data",
     "data": {
      "text/plain": [
       "<Figure size 432x288 with 1 Axes>"
      ],
      "image/png": "[encoded data removed]"
     },
     "metadata": {
      "needs_background": "light"
     }
    }
   ],
   "metadata": {}
  },
  {
   "cell_type": "code",
   "execution_count": 191,
   "source": [
    "example_before = example_shop.loc[~example_shop['rule_costs'].isna()]\n",
    "example_before.loc[:, 'min_cost'] = example_before['rule_costs'].apply(min);"
   ],
   "outputs": [],
   "metadata": {}
  },
  {
   "cell_type": "code",
   "execution_count": 192,
   "source": [
    "example_before['min_cost_standardized']  = example_before['min_cost'] / example_before['min_cost'].max()\n",
    "example_before['predicted_optimal_utility_standardized'] = example_before['predicted_optimal_utility'] / example_before['predicted_optimal_utility'].max()\n",
    "example_before['shop_utility_standardized'] = example_before['shop_utility'] / example_before['shop_utility'].max()"
   ],
   "outputs": [
    {
     "output_type": "stream",
     "name": "stderr",
     "text": [
      "<ipython-input-192-0b8d4685d0b9>:1: SettingWithCopyWarning: \n",
      "A value is trying to be set on a copy of a slice from a DataFrame.\n",
      "Try using .loc[row_indexer,col_indexer] = value instead\n",
      "\n",
      "See the caveats in the documentation: https://pandas.pydata.org/pandas-docs/stable/user_guide/indexing.html#returning-a-view-versus-a-copy\n",
      "  example_before['min_cost_standardized']  = example_before['min_cost'] / example_before['min_cost'].max()\n",
      "<ipython-input-192-0b8d4685d0b9>:2: SettingWithCopyWarning: \n",
      "A value is trying to be set on a copy of a slice from a DataFrame.\n",
      "Try using .loc[row_indexer,col_indexer] = value instead\n",
      "\n",
      "See the caveats in the documentation: https://pandas.pydata.org/pandas-docs/stable/user_guide/indexing.html#returning-a-view-versus-a-copy\n",
      "  example_before['predicted_optimal_utility_standardized'] = example_before['predicted_optimal_utility'] / example_before['predicted_optimal_utility'].max()\n",
      "<ipython-input-192-0b8d4685d0b9>:3: SettingWithCopyWarning: \n",
      "A value is trying to be set on a copy of a slice from a DataFrame.\n",
      "Try using .loc[row_indexer,col_indexer] = value instead\n",
      "\n",
      "See the caveats in the documentation: https://pandas.pydata.org/pandas-docs/stable/user_guide/indexing.html#returning-a-view-versus-a-copy\n",
      "  example_before['shop_utility_standardized'] = example_before['shop_utility'] / example_before['shop_utility'].max()\n"
     ]
    }
   ],
   "metadata": {}
  },
  {
   "cell_type": "code",
   "execution_count": 196,
   "source": [
    "example_before.reset_index()\\\n",
    "              .query('run < 15')\\\n",
    "              .plot(\n",
    "                  x='failure_name',\n",
    "                  y='shop_utility_standardized',\n",
    "                  drawstyle=\"steps\",\n",
    "                  figsize=(10,5))"
   ],
   "outputs": [
    {
     "output_type": "execute_result",
     "data": {
      "text/plain": [
       "<AxesSubplot:xlabel='failure_name'>"
      ]
     },
     "metadata": {},
     "execution_count": 196
    },
    {
     "output_type": "display_data",
     "data": {
      "text/plain": [
       "<Figure size 720x360 with 1 Axes>"
      ],
      "image/png": "[encoded data removed]"
     },
     "metadata": {
      "needs_background": "light"
     }
    }
   ],
   "metadata": {}
  },
  {
   "cell_type": "code",
   "execution_count": null,
   "source": [],
   "outputs": [],
   "metadata": {}
  }
 ],
 "metadata": {
  "orig_nbformat": 4,
  "language_info": {
   "name": "python",
   "version": "3.8.8",
   "mimetype": "text/x-python",
   "codemirror_mode": {
    "name": "ipython",
    "version": 3
   },
   "pygments_lexer": "ipython3",
   "nbconvert_exporter": "python",
   "file_extension": ".py"
  },
  "kernelspec": {
   "name": "python3",
   "display_name": "Python 3.8.8 64-bit ('base': conda)"
  },
  "interpreter": {
   "hash": "e134e05457d34029b6460cd73bbf1ed73f339b5b6d98c95be70b69eba114fe95"
  }
 },
 "nbformat": 4,
 "nbformat_minor": 2
}