{
 "cells": [
  {
   "cell_type": "code",
   "execution_count": 75,
   "metadata": {
    "collapsed": true
   },
   "outputs": [],
   "source": [
    "import numpy as np\n",
    "import pandas as pd\n",
    "from sklearn.model_selection import LeaveOneOut\n",
    "from sklearn.linear_model import Ridge\n",
    "\n",
    "INPUT_FIELDS = [\n",
    "    'CRITICALITY',\n",
    "    'CONNECTIVITY',\n",
    "    'RELIABILITY',\n",
    "    'IMPORTANCE',\n",
    "    'PROVIDED_INTERFACE',\n",
    "    'REQUIRED_INTERFACE',\n",
    "    'ADT',\n",
    "    ' PMax',\n",
    "    'alpha',\n",
    "    'In Use REPLICA',\n",
    "    'LOAD',\n",
    "]\n",
    "OUTPUT_FIELD = 'OPTIMAL_UTILITY'\n",
    "\n",
    "data = pd.read_csv('../data/Traning_mRubis_Batch_1.csv')[INPUT_FIELDS + [OUTPUT_FIELD]]\n",
    "data['Linear'] = data['RELIABILITY'] * data['CRITICALITY'] * (data['PROVIDED_INTERFACE'] + data['REQUIRED_INTERFACE'])\n",
    "data['Saturating'] = data['RELIABILITY'] * data['CRITICALITY'] * data[' PMax'] * np.tanh(data['alpha'] * data['In Use REPLICA'] / data['LOAD']) * (data['PROVIDED_INTERFACE'] + data['REQUIRED_INTERFACE'])\n",
    "# NaNs are dropped here, because 'Saturating' might be NaN for rows with 'LOAD' == 0.0\n",
    "data.dropna(inplace=True)\n",
    "\n",
    "X = data[INPUT_FIELDS + ['Linear', 'Saturating']]\n",
    "y = data[OUTPUT_FIELD]\n",
    "\n",
    "X_linear = X.drop('Saturating', axis=1)\n",
    "X_saturating = X.drop('Linear', axis=1)"
   ]
  },
  {
   "cell_type": "code",
   "execution_count": 76,
   "outputs": [
    {
     "data": {
      "text/plain": "     CRITICALITY  CONNECTIVITY  RELIABILITY  IMPORTANCE  PROVIDED_INTERFACE  \\\n0           25.0           4.0          0.5        22.0                 0.0   \n1           24.0           2.0          0.5        22.0                 1.0   \n2           11.0           3.0          0.5        22.0                 1.0   \n3           27.0           5.0          0.5        22.0                 0.0   \n4           27.0          15.0          0.5        22.0                14.0   \n..           ...           ...          ...         ...                 ...   \n191         23.0           4.0          0.5        22.0                 0.0   \n194         20.0           9.0          0.5        22.0                 8.0   \n196         30.0           4.0          0.5        22.0                 0.0   \n197         30.0           4.0          0.5        22.0                 0.0   \n199         20.0           9.0          0.5        22.0                 8.0   \n\n     REQUIRED_INTERFACE       ADT       PMax       alpha  In Use REPLICA  \\\n0                   4.0  1.077155  13.448238  126.901175            12.0   \n1                   1.0  1.175642   5.323259  154.197090             7.0   \n2                   2.0  1.203442  13.462900   85.652412            18.0   \n3                   5.0  1.356134   8.060657   73.959463            14.0   \n4                   1.0  1.101619   6.164631   85.670351            24.0   \n..                  ...       ...        ...         ...             ...   \n191                 4.0  1.296817  12.901919  123.488873            45.0   \n194                 1.0  1.006633   9.717122  137.960688             0.0   \n196                 4.0  1.460128  12.903071  167.792201             0.0   \n197                 4.0  1.460128  12.903071  167.792201            38.0   \n199                 1.0  1.006633   9.717122  137.960688            42.0   \n\n       LOAD  Linear  \n0     373.0    50.0  \n1    4586.0    24.0  \n2     377.0    16.5  \n3     241.0    67.5  \n4     500.0   202.5  \n..      ...     ...  \n191  4586.0    46.0  \n194  4586.0    90.0  \n196  4586.0    60.0  \n197  4586.0    60.0  \n199  4586.0    90.0  \n\n[91 rows x 12 columns]",
      "text/html": "<div>\n<style scoped>\n    .dataframe tbody tr th:only-of-type {\n        vertical-align: middle;\n    }\n\n    .dataframe tbody tr th {\n        vertical-align: top;\n    }\n\n    .dataframe thead th {\n        text-align: right;\n    }\n</style>\n<table border=\"1\" class=\"dataframe\">\n  <thead>\n    <tr style=\"text-align: right;\">\n      <th></th>\n      <th>CRITICALITY</th>\n      <th>CONNECTIVITY</th>\n      <th>RELIABILITY</th>\n      <th>IMPORTANCE</th>\n      <th>PROVIDED_INTERFACE</th>\n      <th>REQUIRED_INTERFACE</th>\n      <th>ADT</th>\n      <th>PMax</th>\n      <th>alpha</th>\n      <th>In Use REPLICA</th>\n      <th>LOAD</th>\n      <th>Linear</th>\n    </tr>\n  </thead>\n  <tbody>\n    <tr>\n      <th>0</th>\n      <td>25.0</td>\n      <td>4.0</td>\n      <td>0.5</td>\n      <td>22.0</td>\n      <td>0.0</td>\n      <td>4.0</td>\n      <td>1.077155</td>\n      <td>13.448238</td>\n      <td>126.901175</td>\n      <td>12.0</td>\n      <td>373.0</td>\n      <td>50.0</td>\n    </tr>\n    <tr>\n      <th>1</th>\n      <td>24.0</td>\n      <td>2.0</td>\n      <td>0.5</td>\n      <td>22.0</td>\n      <td>1.0</td>\n      <td>1.0</td>\n      <td>1.175642</td>\n      <td>5.323259</td>\n      <td>154.197090</td>\n      <td>7.0</td>\n      <td>4586.0</td>\n      <td>24.0</td>\n    </tr>\n    <tr>\n      <th>2</th>\n      <td>11.0</td>\n      <td>3.0</td>\n      <td>0.5</td>\n      <td>22.0</td>\n      <td>1.0</td>\n      <td>2.0</td>\n      <td>1.203442</td>\n      <td>13.462900</td>\n      <td>85.652412</td>\n      <td>18.0</td>\n      <td>377.0</td>\n      <td>16.5</td>\n    </tr>\n    <tr>\n      <th>3</th>\n      <td>27.0</td>\n      <td>5.0</td>\n      <td>0.5</td>\n      <td>22.0</td>\n      <td>0.0</td>\n      <td>5.0</td>\n      <td>1.356134</td>\n      <td>8.060657</td>\n      <td>73.959463</td>\n      <td>14.0</td>\n      <td>241.0</td>\n      <td>67.5</td>\n    </tr>\n    <tr>\n      <th>4</th>\n      <td>27.0</td>\n      <td>15.0</td>\n      <td>0.5</td>\n      <td>22.0</td>\n      <td>14.0</td>\n      <td>1.0</td>\n      <td>1.101619</td>\n      <td>6.164631</td>\n      <td>85.670351</td>\n      <td>24.0</td>\n      <td>500.0</td>\n      <td>202.5</td>\n    </tr>\n    <tr>\n      <th>...</th>\n      <td>...</td>\n      <td>...</td>\n      <td>...</td>\n      <td>...</td>\n      <td>...</td>\n      <td>...</td>\n      <td>...</td>\n      <td>...</td>\n      <td>...</td>\n      <td>...</td>\n      <td>...</td>\n      <td>...</td>\n    </tr>\n    <tr>\n      <th>191</th>\n      <td>23.0</td>\n      <td>4.0</td>\n      <td>0.5</td>\n      <td>22.0</td>\n      <td>0.0</td>\n      <td>4.0</td>\n      <td>1.296817</td>\n      <td>12.901919</td>\n      <td>123.488873</td>\n      <td>45.0</td>\n      <td>4586.0</td>\n      <td>46.0</td>\n    </tr>\n    <tr>\n      <th>194</th>\n      <td>20.0</td>\n      <td>9.0</td>\n      <td>0.5</td>\n      <td>22.0</td>\n      <td>8.0</td>\n      <td>1.0</td>\n      <td>1.006633</td>\n      <td>9.717122</td>\n      <td>137.960688</td>\n      <td>0.0</td>\n      <td>4586.0</td>\n      <td>90.0</td>\n    </tr>\n    <tr>\n      <th>196</th>\n      <td>30.0</td>\n      <td>4.0</td>\n      <td>0.5</td>\n      <td>22.0</td>\n      <td>0.0</td>\n      <td>4.0</td>\n      <td>1.460128</td>\n      <td>12.903071</td>\n      <td>167.792201</td>\n      <td>0.0</td>\n      <td>4586.0</td>\n      <td>60.0</td>\n    </tr>\n    <tr>\n      <th>197</th>\n      <td>30.0</td>\n      <td>4.0</td>\n      <td>0.5</td>\n      <td>22.0</td>\n      <td>0.0</td>\n      <td>4.0</td>\n      <td>1.460128</td>\n      <td>12.903071</td>\n      <td>167.792201</td>\n      <td>38.0</td>\n      <td>4586.0</td>\n      <td>60.0</td>\n    </tr>\n    <tr>\n      <th>199</th>\n      <td>20.0</td>\n      <td>9.0</td>\n      <td>0.5</td>\n      <td>22.0</td>\n      <td>8.0</td>\n      <td>1.0</td>\n      <td>1.006633</td>\n      <td>9.717122</td>\n      <td>137.960688</td>\n      <td>42.0</td>\n      <td>4586.0</td>\n      <td>90.0</td>\n    </tr>\n  </tbody>\n</table>\n<p>91 rows × 12 columns</p>\n</div>"
     },
     "execution_count": 76,
     "metadata": {},
     "output_type": "execute_result"
    }
   ],
   "source": [
    "X_linear"
   ],
   "metadata": {
    "collapsed": false,
    "pycharm": {
     "name": "#%%\n"
    }
   }
  },
  {
   "cell_type": "code",
   "execution_count": 77,
   "outputs": [
    {
     "data": {
      "text/plain": "     CRITICALITY  CONNECTIVITY  RELIABILITY  IMPORTANCE  PROVIDED_INTERFACE  \\\n0           25.0           4.0          0.5        22.0                 0.0   \n1           24.0           2.0          0.5        22.0                 1.0   \n2           11.0           3.0          0.5        22.0                 1.0   \n3           27.0           5.0          0.5        22.0                 0.0   \n4           27.0          15.0          0.5        22.0                14.0   \n..           ...           ...          ...         ...                 ...   \n191         23.0           4.0          0.5        22.0                 0.0   \n194         20.0           9.0          0.5        22.0                 8.0   \n196         30.0           4.0          0.5        22.0                 0.0   \n197         30.0           4.0          0.5        22.0                 0.0   \n199         20.0           9.0          0.5        22.0                 8.0   \n\n     REQUIRED_INTERFACE       ADT       PMax       alpha  In Use REPLICA  \\\n0                   4.0  1.077155  13.448238  126.901175            12.0   \n1                   1.0  1.175642   5.323259  154.197090             7.0   \n2                   2.0  1.203442  13.462900   85.652412            18.0   \n3                   5.0  1.356134   8.060657   73.959463            14.0   \n4                   1.0  1.101619   6.164631   85.670351            24.0   \n..                  ...       ...        ...         ...             ...   \n191                 4.0  1.296817  12.901919  123.488873            45.0   \n194                 1.0  1.006633   9.717122  137.960688             0.0   \n196                 4.0  1.460128  12.903071  167.792201             0.0   \n197                 4.0  1.460128  12.903071  167.792201            38.0   \n199                 1.0  1.006633   9.717122  137.960688            42.0   \n\n       LOAD   Saturating  \n0     373.0   672.029563  \n1    4586.0    29.526479  \n2     377.0   222.013273  \n3     241.0   543.892601  \n4     500.0  1247.668828  \n..      ...          ...  \n191  4586.0   496.867239  \n194  4586.0     0.000000  \n196  4586.0     0.000000  \n197  4586.0   683.795060  \n199  4586.0   745.128516  \n\n[91 rows x 12 columns]",
      "text/html": "<div>\n<style scoped>\n    .dataframe tbody tr th:only-of-type {\n        vertical-align: middle;\n    }\n\n    .dataframe tbody tr th {\n        vertical-align: top;\n    }\n\n    .dataframe thead th {\n        text-align: right;\n    }\n</style>\n<table border=\"1\" class=\"dataframe\">\n  <thead>\n    <tr style=\"text-align: right;\">\n      <th></th>\n      <th>CRITICALITY</th>\n      <th>CONNECTIVITY</th>\n      <th>RELIABILITY</th>\n      <th>IMPORTANCE</th>\n      <th>PROVIDED_INTERFACE</th>\n      <th>REQUIRED_INTERFACE</th>\n      <th>ADT</th>\n      <th>PMax</th>\n      <th>alpha</th>\n      <th>In Use REPLICA</th>\n      <th>LOAD</th>\n      <th>Saturating</th>\n    </tr>\n  </thead>\n  <tbody>\n    <tr>\n      <th>0</th>\n      <td>25.0</td>\n      <td>4.0</td>\n      <td>0.5</td>\n      <td>22.0</td>\n      <td>0.0</td>\n      <td>4.0</td>\n      <td>1.077155</td>\n      <td>13.448238</td>\n      <td>126.901175</td>\n      <td>12.0</td>\n      <td>373.0</td>\n      <td>672.029563</td>\n    </tr>\n    <tr>\n      <th>1</th>\n      <td>24.0</td>\n      <td>2.0</td>\n      <td>0.5</td>\n      <td>22.0</td>\n      <td>1.0</td>\n      <td>1.0</td>\n      <td>1.175642</td>\n      <td>5.323259</td>\n      <td>154.197090</td>\n      <td>7.0</td>\n      <td>4586.0</td>\n      <td>29.526479</td>\n    </tr>\n    <tr>\n      <th>2</th>\n      <td>11.0</td>\n      <td>3.0</td>\n      <td>0.5</td>\n      <td>22.0</td>\n      <td>1.0</td>\n      <td>2.0</td>\n      <td>1.203442</td>\n      <td>13.462900</td>\n      <td>85.652412</td>\n      <td>18.0</td>\n      <td>377.0</td>\n      <td>222.013273</td>\n    </tr>\n    <tr>\n      <th>3</th>\n      <td>27.0</td>\n      <td>5.0</td>\n      <td>0.5</td>\n      <td>22.0</td>\n      <td>0.0</td>\n      <td>5.0</td>\n      <td>1.356134</td>\n      <td>8.060657</td>\n      <td>73.959463</td>\n      <td>14.0</td>\n      <td>241.0</td>\n      <td>543.892601</td>\n    </tr>\n    <tr>\n      <th>4</th>\n      <td>27.0</td>\n      <td>15.0</td>\n      <td>0.5</td>\n      <td>22.0</td>\n      <td>14.0</td>\n      <td>1.0</td>\n      <td>1.101619</td>\n      <td>6.164631</td>\n      <td>85.670351</td>\n      <td>24.0</td>\n      <td>500.0</td>\n      <td>1247.668828</td>\n    </tr>\n    <tr>\n      <th>...</th>\n      <td>...</td>\n      <td>...</td>\n      <td>...</td>\n      <td>...</td>\n      <td>...</td>\n      <td>...</td>\n      <td>...</td>\n      <td>...</td>\n      <td>...</td>\n      <td>...</td>\n      <td>...</td>\n      <td>...</td>\n    </tr>\n    <tr>\n      <th>191</th>\n      <td>23.0</td>\n      <td>4.0</td>\n      <td>0.5</td>\n      <td>22.0</td>\n      <td>0.0</td>\n      <td>4.0</td>\n      <td>1.296817</td>\n      <td>12.901919</td>\n      <td>123.488873</td>\n      <td>45.0</td>\n      <td>4586.0</td>\n      <td>496.867239</td>\n    </tr>\n    <tr>\n      <th>194</th>\n      <td>20.0</td>\n      <td>9.0</td>\n      <td>0.5</td>\n      <td>22.0</td>\n      <td>8.0</td>\n      <td>1.0</td>\n      <td>1.006633</td>\n      <td>9.717122</td>\n      <td>137.960688</td>\n      <td>0.0</td>\n      <td>4586.0</td>\n      <td>0.000000</td>\n    </tr>\n    <tr>\n      <th>196</th>\n      <td>30.0</td>\n      <td>4.0</td>\n      <td>0.5</td>\n      <td>22.0</td>\n      <td>0.0</td>\n      <td>4.0</td>\n      <td>1.460128</td>\n      <td>12.903071</td>\n      <td>167.792201</td>\n      <td>0.0</td>\n      <td>4586.0</td>\n      <td>0.000000</td>\n    </tr>\n    <tr>\n      <th>197</th>\n      <td>30.0</td>\n      <td>4.0</td>\n      <td>0.5</td>\n      <td>22.0</td>\n      <td>0.0</td>\n      <td>4.0</td>\n      <td>1.460128</td>\n      <td>12.903071</td>\n      <td>167.792201</td>\n      <td>38.0</td>\n      <td>4586.0</td>\n      <td>683.795060</td>\n    </tr>\n    <tr>\n      <th>199</th>\n      <td>20.0</td>\n      <td>9.0</td>\n      <td>0.5</td>\n      <td>22.0</td>\n      <td>8.0</td>\n      <td>1.0</td>\n      <td>1.006633</td>\n      <td>9.717122</td>\n      <td>137.960688</td>\n      <td>42.0</td>\n      <td>4586.0</td>\n      <td>745.128516</td>\n    </tr>\n  </tbody>\n</table>\n<p>91 rows × 12 columns</p>\n</div>"
     },
     "execution_count": 77,
     "metadata": {},
     "output_type": "execute_result"
    }
   ],
   "source": [
    "X_saturating"
   ],
   "metadata": {
    "collapsed": false,
    "pycharm": {
     "name": "#%%\n"
    }
   }
  },
  {
   "cell_type": "code",
   "execution_count": 70,
   "outputs": [
    {
     "data": {
      "text/plain": "0      18480.555310\n1       4894.866505\n2       9762.030924\n3      14350.529590\n4      51254.059050\n           ...     \n191    13779.400630\n194    29132.737840\n196    18789.762880\n197    18789.762880\n199    29132.737840\nName: OPTIMAL_UTILITY, Length: 91, dtype: float64"
     },
     "execution_count": 70,
     "metadata": {},
     "output_type": "execute_result"
    }
   ],
   "source": [
    "y"
   ],
   "metadata": {
    "collapsed": false,
    "pycharm": {
     "name": "#%%\n"
    }
   }
  },
  {
   "cell_type": "code",
   "execution_count": 94,
   "outputs": [
    {
     "name": "stdout",
     "output_type": "stream",
     "text": [
      "Linear model - average error: 6329.44\n"
     ]
    }
   ],
   "source": [
    "errors = []\n",
    "for train_index, test_index in LeaveOneOut().split(X_linear, y):\n",
    "    X_train, X_test = X_linear.values[train_index], X_linear.values[test_index]\n",
    "    y_train, y_test = y.values[train_index], y.values[test_index]\n",
    "    ridge = Ridge()\n",
    "    ridge.fit(X_train, y_train)\n",
    "    errors.append(ridge.predict(X_test) - y_test)\n",
    "print(f'Linear model - average error: {np.sum(np.abs(errors)) / len(errors):0.2f}')"
   ],
   "metadata": {
    "collapsed": false,
    "pycharm": {
     "name": "#%%\n"
    }
   }
  },
  {
   "cell_type": "code",
   "execution_count": 92,
   "outputs": [
    {
     "name": "stdout",
     "output_type": "stream",
     "text": [
      "Saturating model - average error: 6248.62\n"
     ]
    }
   ],
   "source": [
    "errors = []\n",
    "for train_index, test_index in LeaveOneOut().split(X_saturating, y):\n",
    "    X_train, X_test = X_saturating.values[train_index], X_saturating.values[test_index]\n",
    "    y_train, y_test = y.values[train_index], y.values[test_index]\n",
    "    ridge = Ridge()\n",
    "    ridge.fit(X_train, y_train)\n",
    "    errors.append(ridge.predict(X_test) - y_test)\n",
    "print(f'Saturating model - average error: {np.sum(np.abs(errors)) / len(errors):0.2f}')"
   ],
   "metadata": {
    "collapsed": false,
    "pycharm": {
     "name": "#%%\n"
    }
   }
  },
  {
   "cell_type": "code",
   "execution_count": null,
   "outputs": [],
   "source": [],
   "metadata": {
    "collapsed": false,
    "pycharm": {
     "name": "#%%\n"
    }
   }
  }
 ],
 "metadata": {
  "kernelspec": {
   "display_name": "Python 3",
   "language": "python",
   "name": "python3"
  },
  "language_info": {
   "codemirror_mode": {
    "name": "ipython",
    "version": 2
   },
   "file_extension": ".py",
   "mimetype": "text/x-python",
   "name": "python",
   "nbconvert_exporter": "python",
   "pygments_lexer": "ipython2",
   "version": "2.7.6"
  }
 },
 "nbformat": 4,
 "nbformat_minor": 0
}